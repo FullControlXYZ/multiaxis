{
  "cells": [
    {
      "cell_type": "markdown",
      "metadata": {
        "id": "BqlHX76pMxjF"
      },
      "source": [
        "\n",
        "# Open-Source 4-Axis Printer-Conversion and FullControl Toolpath Generation\n",
        "\n",
        "<center><img src='https://github.com/FullControlXYZ/multiaxis/raw/main/prusai3_XYZB1/Images/overall_image.jpg' width=450></center>\n",
        "\n",
        "Convert a [Prusa MK3S](https://www.prusa3d.com/category/original-prusa-i3-mk3s/) to have a 4th axis (nozzle rotates about Y) and run on a [Duet3D Mini 5+](https://www.duet3d.com/duet3mini5plus) control board (to allow for extra motors)\n",
        "\n",
        "Generate 4-axis gcode using [FullControl](https://github.com/FullControlXYZ/fullcontrol/#readme) directly in this notebook (see bottom sections)\n",
        "\n",
        "Other prusa printers would likely work with minimal adjustment to this guide. Other 'bed-slinger' printers, like an Ender 3 would work with minor redesigns of brackets, etc.\n",
        "\n",
        "**Why 4 axis?** A lot of 5-axis R&D can be done much more simply in 4-axis (e.g. procedures for collision avoidance/detection; e.g. toolpath design methods; e.g. testing gear ratios for rotation axes) and many object don't need the 5th axis if they have a degree of directionality (e.g. angle brackets; e.g. elbow pipes)\n",
        "\n",
        "A **5-axis augmentation** will be released soon as well as further demos of FullControl multi-axis printpaths!\n",
        "\n",
        "There is a [github repo](https://github.com/FullControlXYZ/multiaxis) associated with this guide. Please cite our work when possible as this is really valuable for us:\n",
        "- Gleadall A, Vigneswaran R, Hogg N, Lock T, Leas D (2024) Open-Source 4-Axis Printer-Conversion and FullControl Toolpath Generation. GitHub repository. https://github.com/FullControlXYZ/multiaxis"
      ]
    },
    {
      "cell_type": "markdown",
      "metadata": {
        "id": "3DUBfA3LJhTT"
      },
      "source": [
        "\n",
        "**1. Get parts:**\n",
        "\n",
        "- Buy:\n",
        "  -\t[Motor-gearbox combo](https://www.active-robots.com/3321-0-28sth32-nema-11-bipolar-stepper-with-27-1-gearbox.html)\n",
        "  -\t[Duet3D Mini 5+](https://www.duet3d.com/duet3mini5plus) (we used an ethernet version)\n",
        "  -\t[Duet 3 Mini 2+ expansion board](https://www.duet3d.com/duet3expansionmini2plus)\n",
        "\n",
        "\n",
        "- Tools/basic consumables:\n",
        "  -\tCrimp tool + snips\n",
        "  -\tAllan keys and screwdrivers\n",
        "  -\tSoldering kit (optional - only required if wires are being extended)\n",
        "  - Wires appropriate for stepper motors, etc.\n",
        "  -\tIf using ethernet duet board: ethernet cable + adapter for USB-C (if no ethernet port on laptop)\n",
        "  -\tNuts and bolts:\n",
        "    - M3x10 - quantity 11\n",
        "    - M3 nut - quantity 1\n",
        "    - M4x10 - quantity 6\n",
        "    - M4x40 - quantity 2\n",
        "    - M4x25 - quantity 1\n",
        "    - M4x6 - quantity 1\n",
        "\n",
        "- Printed components:\n",
        "  - Duet case ([preview](https://github.com/FullControlXYZ/multiaxis/blob/main/prusai3_XYZB1/CAD/Duet%20Case.stl)/[download](https://github.com/FullControlXYZ/multiaxis/raw/main/prusai3_XYZB1/CAD/Duet%20Case.stl)) and lid ([preview](https://github.com/FullControlXYZ/multiaxis/blob/main/prusai3_XYZB1/CAD/Duet%20Case%20Lid.stl)/[download](https://github.com/FullControlXYZ/multiaxis/raw/main/prusai3_XYZB1/CAD/Duet%20Case%20Lid.stl)) - the case is a slightly modified version of [this model](https://www.printables.com/model/144378-duet-3-mini-5-case) (modification avoids the need for drilling holes)\n",
        "  - Brackets:\n",
        "    - Extruder - [preview](https://github.com/FullControlXYZ/multiaxis/blob/main/prusai3_XYZB1/CAD/Extruder%20Bracket.stl)/[download](https://github.com/FullControlXYZ/multiaxis/raw/main/prusai3_XYZB1/CAD/Extruder%20Bracket.stl)\n",
        "    - Motor (front) - [preview](https://github.com/FullControlXYZ/multiaxis/blob/main/prusai3_XYZB1/CAD/Motor%20Bracket%20Front.stl)/[download](https://github.com/FullControlXYZ/multiaxis/raw/main/prusai3_XYZB1/CAD/Motor%20Bracket%20Front.stl)\n",
        "    - Motor (rear) - [preview](https://github.com/FullControlXYZ/multiaxis/blob/main/prusai3_XYZB1/CAD/Motor%20Bracket%20Rear.stl)/[download](https://github.com/FullControlXYZ/multiaxis/raw/main/prusai3_XYZB1/CAD/Motor%20Bracket%20Rear.stl)\n",
        "\n",
        "- Anything missing? ... email [info@fullcontrol.xyz](mailto:info@fullcontrol.xyz) to help improve this guide\n",
        "\n",
        "<center><img src='https://github.com/FullControlXYZ/multiaxis/raw/main/prusai3_XYZB1/Parts%20List/Basic%20Parts.png' width=450></center>\n",
        "<center><a href=\"https://github.com/FullControlXYZ/multiaxis/blob/main/prusai3_XYZB1/Parts%20List/Parts%20List.pdf\">Parts list</a></center>\n",
        "\n"
      ]
    },
    {
      "cell_type": "markdown",
      "metadata": {
        "id": "YmyzevwOJtNG"
      },
      "source": [
        "\n",
        "**2. Build system:**\n",
        "\n",
        "- Convert the Prusa to Duet and wire in the new motor:\n",
        "  - We used the firmware from the [open5x github repository](https://github.com/FreddieHong19/Open5x) with some changes to config.g related to the 4th/5th axes and some routines (homex.g, homey.g, homez.g and pause.g)\n",
        "  - We used an ethernet board:\n",
        "    - Follow the [duet connection guide](https://docs.duet3d.com/en/How_to_guides/Getting_connected/Getting_connected_to_your_Duet) and consider updating firmware\n",
        "    - Set up IP addresses\n",
        "      - We set the IP address and subnet mask for the PC ethernet port to be 192.168.2.3 and 255.255.255.0\n",
        "      - We set Duet IP to 192.168.2.4 (this IP address was used in the browser to control the printer)\n",
        "    - Download our exact firmware's [system directory](https://github.com/FullControlXYZ/multiaxis/raw/main/prusai3_XYZB1/Config%20Files/sys.zip) and either replace the existing 'sys' directory on the duet board's micro-sd card with it or use Duet Web Control to upload the files to the System Directory (update IP addresses if you used different values to us)\n",
        "  - If using a wifi board, change the gcode at the start of config.g in the 'Network' section, following duet connection guides\n",
        "  - Follow our [wiring instructions](https://github.com/FullControlXYZ/multiaxis/blob/main/prusai3_XYZB1/Duet%20Wiring/Duet%20Wiring.pdf)\n",
        "    - Remove the panic wire from the PSU to the original control board\n",
        "\n",
        "  - Additional useful resources:\n",
        "    - Images of [exploded-view CAD](https://github.com/FullControlXYZ/multiaxis/tree/main/prusai3_XYZB1/Exploded%20View) / [assembled system](https://github.com/FullControlXYZ/multiaxis/tree/main/prusai3_XYZB1/Images) / [wiring](https://github.com/FullControlXYZ/multiaxis/tree/main/prusai3_XYZB1/Duet%20Wiring/Photos)\n",
        "    -\t[Duet 3 mini 5+ documentation](https://docs.duet3d.com/Duet3D_hardware/Duet_3_family/Duet_3_Mini_5+_Hardware_Overview)\n",
        "    -\tCNCKitchen [video](https://www.youtube.com/watch?v=o8xP53y3T2U&t=592s) and [blog](https://www.cnckitchen.com/blog/prusa-mk25s-duet-3-mini-5-conversion) to convert a prusa to a Duet controller board - (for Prusa i3 MK2 but okay for MK3)\n",
        "  - Anything missing? ... email [info@fullcontrol.xyz](mailto:info@fullcontrol.xyz) to help improve this guide\n",
        "\n",
        "  \n",
        "\n",
        "<center><a href=\"https://github.com/FullControlXYZ/multiaxis/blob/main/prusai3_XYZB1/Duet%20Wiring/Duet%20Wiring.pdf\"><img src='https://github.com/FullControlXYZ/multiaxis/raw/main/prusai3_XYZB1/Duet%20Wiring/Screenshot.png' width=300></a></center>\n",
        "\n",
        "<center><a href=\"https://github.com/FullControlXYZ/multiaxis/blob/main/prusai3_XYZB1/Duet%20Wiring/Duet%20Wiring.pdf\">Wiring-instructions PDF</a></center>\n",
        "\n",
        "<center><a href=\"https://github.com/FullControlXYZ/multiaxis/tree/main/prusai3_XYZB1/Exploded%20View\"><img src='https://github.com/FullControlXYZ/multiaxis/raw/main/prusai3_XYZB1/Exploded%20View/Labeled.png' width=450></a>    <a href=\"https://github.com/FullControlXYZ/multiaxis/tree/main/prusai3_XYZB1/Images\"><img src='https://github.com/FullControlXYZ/multiaxis/raw/main/prusai3_XYZB1/Images/Side%20View%20Extruder.jpg' width=300></a></center>\n",
        "\n",
        "<center><a href=\"https://github.com/FullControlXYZ/multiaxis/tree/main/prusai3_XYZB1/Exploded%20View\">Exploded-view CAD images</a> / <a href=\"https://github.com/FullControlXYZ/multiaxis/tree/main/prusai3_XYZB1/Images\">Assembled system images</a></center>"
      ]
    },
    {
      "cell_type": "markdown",
      "metadata": {
        "id": "i6vkc-1AJxiZ"
      },
      "source": [
        "\n",
        "**3. Check things work:**\n",
        "  - Check extruder steps/mm are reasonable\n",
        "    - Search for guides online, or a quick-and-dirty method:\n",
        "      - Mark the filament at a distance 50 mm before the extruder inlet\n",
        "      - Use duet web control to extrude 50 mm (heat the hotend first):\n",
        "        - M83\n",
        "        - G1 F200 E50\n",
        "      - Check that 50 mm of material is actually fed into the extruder\n",
        "        - adjust steps/mm parameter in config.g ([M350 and M92](https://docs.duet3d.com/User_manual/Connecting_hardware/Motors_configuring#:~:text=Setting%20microstepping%20and%20steps%20per,and%20set%20at%20power%20on.) - [note order dependency](https://forum.duet3d.com/topic/8225/m92-parameter-to-indicate-microstepping/2)) or just adjust flow multiplier if you're lazy\n",
        "  - Check that the B motor has steps/deg calibrated correctly\n",
        "    - Quick-and-dirty method:\n",
        "      - Set the nozzle to be vertical\n",
        "      - G92 B0\n",
        "      - G1 F500 B-90\n",
        "      - Check it looks horizontal\n",
        "      - G1 F500 B90\n",
        "      - Check is looks horizontal the other way\n",
        "    - Developed a more profession method? ... email [info@fullcontrol.xyz](mailto:info@fullcontrol.xyz) to help improve this guide\n",
        "\n"
      ]
    },
    {
      "cell_type": "markdown",
      "metadata": {
        "id": "TTIVYLzTJzUf"
      },
      "source": [
        "\n",
        "**4. Optional steps/enhancements:**\n",
        "  - Exclude cable-organiser bracket on rear of MK3 x-rails (no substitute part required)\n",
        "  - Remove the PINDA sensor and part cooling fan if more nozzle accessibility is desired\n",
        "    - consider printing revised brackets without PINDA or the part fan - [preview](https://github.com/FullControlXYZ/multiaxis/blob/main/prusai3_XYZB1/CAD/Optional/Hotend%20Cover.stl)/[download](https://github.com/FullControlXYZ/multiaxis/raw/main/prusai3_XYZB1/CAD/Optional/Hotend%20Cover.stl)\n",
        "  - Add endstops to accurately home Z and/or B axes - currently done manually as a quick-and-dirty option, but an endstop option is under development\n",
        "  - Replace the normal hotend with an [E3D volcano](https://e3d-online.com/products/volcano-upgrade-kit?variant=40923113619515) to give more nozzle accessibility or use a [long nozzle](https://www.nonplanar.xyz/nozzles)\n",
        "  - Add an alternative cooling solution that gives more freedom of movement for nonplanar and multiaxis toolpaths (e.g. an aquarium pump with tube mounted near nozzle) - currently under development\n",
        "  - Consider snipping off, recrimping and reconnecting Z_Left, Z_Right, X, Y and E motors if the wiring seems to be too tight a fit"
      ]
    },
    {
      "cell_type": "markdown",
      "metadata": {
        "id": "amnVzl0DEpw-"
      },
      "source": [
        "**5. Generate Gcode:**\n",
        "\n",
        "- The code cell at the bottom of this document will produce gcode for a funky tube using [FullControl](https://github.com/FullControlXYZ/fullcontrol/#readme)\n",
        "- Click the arrow to top-left of that cell to generate and download the gcode\n",
        "- See more info about toolpath generation in the [4-axis tutorial](https://colab.research.google.com/github/FullControlXYZ/fullcontrol/blob/master/docs/colab/lab_four_axis_demo_colab.ipynb):\n",
        "  - Make sure you set the `b_offset_z` parameter in the tutorial to be correct for your printer\n"
      ]
    },
    {
      "cell_type": "markdown",
      "metadata": {
        "id": "dYBAkBFdAZSO"
      },
      "source": [
        "**6. Print:**\n",
        "\n",
        "- Turn printer on\n",
        "- Connect PC by ethernet\n",
        "- Go to 192.168.2.4 in browser\n",
        "- Manually home axes (to be automated in the future):\n",
        "  1. Home X: Click 'HOME X'\n",
        "  1. Home Y: Click 'HOME Y'\n",
        "  1. Home B (short-term solution - homing of B with endstops is planned for the future):\n",
        "    1. Allow axes movement without homing:\n",
        "      - M564 H0 S0\n",
        "    1. Use duet webcontrol to jog B until the nozzle points directly down\n",
        "    1. Set home for B axis:\n",
        "      - G92 B0\n",
        "    1. Check 90 degree rotations look correct:\n",
        "      - G1 F500 B90\n",
        "      - G1 F500 B-90\n",
        "  1. Home Z:\n",
        "    - G1 F500 B0\n",
        "    - Use duet webcontrol to jog Z down until it pinches paper\n",
        "    - G92 Z0\n",
        "    - Use duet webcontrol to jog Z up to a safe height or send G1 F500 Z50\n",
        "- Click T0 in duet web control and set nozzle temperature and bed temperature\n",
        "- Load gcode file (without start/end-procedures except M82/M83) onto printer\n",
        "- Run gcode file (use very slow speeds if you have no cooling fan)\n"
      ]
    },
    {
      "cell_type": "markdown",
      "metadata": {
        "id": "yqDG4yxBZ_ia"
      },
      "source": [
        "**Acknowledgments**\n",
        "\n",
        "Thanks to:\n",
        " - Tony Lock (Duet3D) for providing components and advice\n",
        " - Yuan-Tsan Tseng and the Magdi Yacoub Institute for supporting A Gleadall to develop previous five-axis systems\n",
        " - Loughborough University for allowing A Gleadall time to conduct research and for establishing an education enviroment where students (R Vigneswaran; N Hogg) can do valuable projects\n",
        " - Dirk Leas (independent software engineer) and Vadim Silberschmidt (Loughborough University) for unconditional support to develop A Gleadall's technical awareness\n",
        " - Freddie Hong for publishing an [open-source 5-axis system](https://github.com/FreddieHong19/Open5x), on which our firmware was based, and BrendonBuilds for further developing that work "
      ]
    },
    {
      "cell_type": "code",
      "execution_count": null,
      "metadata": {
        "colab": {
          "base_uri": "https://localhost:8080/",
          "height": 517
        },
        "id": "9WdIdkaOAaoL",
        "outputId": "0c0d88af-5c54-4af2-f36d-3d29cdfd9394"
      },
      "outputs": [
        {
          "data": {
            "text/html": [
              "<html>\n",
              "<head><meta charset=\"utf-8\" /></head>\n",
              "<body>\n",
              "    <div>            <script src=\"https://cdnjs.cloudflare.com/ajax/libs/mathjax/2.7.5/MathJax.js?config=TeX-AMS-MML_SVG\"></script><script type=\"text/javascript\">if (window.MathJax && window.MathJax.Hub && window.MathJax.Hub.Config) {window.MathJax.Hub.Config({SVG: {font: \"STIX-Web\"}});}</script>                <script type=\"text/javascript\">window.PlotlyConfig = {MathJaxConfig: 'local'};</script>\n",
              "        <script charset=\"utf-8\" src=\"https://cdn.plot.ly/plotly-2.24.1.min.js\"></script>                <div id=\"722b85c8-9219-48a1-a625-9bb387468303\" class=\"plotly-graph-div\" style=\"height:500px; width:800px;\"></div>            <script type=\"text/javascript\">                                    window.PLOTLYENV=window.PLOTLYENV || {};                                    if (document.getElementById(\"722b85c8-9219-48a1-a625-9bb387468303\")) {                    Plotly.newPlot(                        \"722b85c8-9219-48a1-a625-9bb387468303\",                        [{\"line\":{\"color\":[\"rgb(204.00, 0.00, 255.00)\",\"rgb(203.24, 0.00, 255.00)\",\"rgb(202.47, 0.00, 255.00)\",\"rgb(201.71, 0.00, 255.00)\",\"rgb(200.94, 0.00, 255.00)\",\"rgb(200.18, 0.00, 255.00)\",\"rgb(199.16, 0.00, 255.00)\",\"rgb(198.39, 0.00, 255.00)\",\"rgb(197.62, 0.00, 255.00)\",\"rgb(196.86, 0.00, 255.00)\",\"rgb(196.09, 0.00, 255.00)\",\"rgb(195.33, 0.00, 255.00)\",\"rgb(194.56, 0.00, 255.00)\",\"rgb(193.80, 0.00, 255.00)\",\"rgb(193.03, 0.00, 255.00)\",\"rgb(192.27, 0.00, 255.00)\",\"rgb(191.50, 0.00, 255.00)\",\"rgb(190.48, 0.00, 255.00)\",\"rgb(189.72, 0.00, 255.00)\",\"rgb(188.95, 0.00, 255.00)\",\"rgb(188.19, 0.00, 255.00)\",\"rgb(187.42, 0.00, 255.00)\",\"rgb(186.66, 0.00, 255.00)\",\"rgb(185.89, 0.00, 255.00)\",\"rgb(185.13, 0.00, 255.00)\",\"rgb(184.36, 0.00, 255.00)\",\"rgb(183.60, 0.00, 255.00)\",\"rgb(182.83, 0.00, 255.00)\",\"rgb(182.07, 0.00, 255.00)\",\"rgb(181.05, 0.00, 255.00)\",\"rgb(180.28, 0.00, 255.00)\",\"rgb(179.52, 0.00, 255.00)\",\"rgb(178.75, 0.00, 255.00)\",\"rgb(177.99, 0.00, 255.00)\",\"rgb(177.22, 0.00, 255.00)\",\"rgb(176.46, 0.00, 255.00)\",\"rgb(175.69, 0.00, 255.00)\",\"rgb(174.93, 0.00, 255.00)\",\"rgb(174.17, 0.00, 255.00)\",\"rgb(173.40, 0.00, 255.00)\",\"rgb(172.38, 0.00, 255.00)\",\"rgb(171.62, 0.00, 255.00)\",\"rgb(170.85, 0.00, 255.00)\",\"rgb(170.09, 0.00, 255.00)\",\"rgb(169.32, 0.00, 255.00)\",\"rgb(168.56, 0.00, 255.00)\",\"rgb(167.79, 0.00, 255.00)\",\"rgb(167.03, 0.00, 255.00)\",\"rgb(166.26, 0.00, 255.00)\",\"rgb(165.50, 0.00, 255.00)\",\"rgb(164.73, 0.00, 255.00)\",\"rgb(163.71, 0.00, 255.00)\",\"rgb(162.94, 0.00, 255.00)\",\"rgb(162.18, 0.00, 255.00)\",\"rgb(161.41, 0.00, 255.00)\",\"rgb(160.65, 0.00, 255.00)\",\"rgb(159.88, 0.00, 255.00)\",\"rgb(159.12, 0.00, 255.00)\",\"rgb(158.35, 0.00, 255.00)\",\"rgb(157.59, 0.00, 255.00)\",\"rgb(156.82, 0.00, 255.00)\",\"rgb(156.06, 0.00, 255.00)\",\"rgb(155.04, 0.00, 255.00)\",\"rgb(154.28, 0.00, 255.00)\",\"rgb(153.51, 0.00, 255.00)\",\"rgb(152.75, 0.00, 255.00)\",\"rgb(151.98, 0.00, 255.00)\",\"rgb(151.22, 0.00, 255.00)\",\"rgb(150.45, 0.00, 255.00)\",\"rgb(149.69, 0.00, 255.00)\",\"rgb(148.92, 0.00, 255.00)\",\"rgb(148.16, 0.00, 255.00)\",\"rgb(147.39, 0.00, 255.00)\",\"rgb(146.62, 0.00, 255.00)\",\"rgb(145.60, 0.00, 255.00)\",\"rgb(144.84, 0.00, 255.00)\",\"rgb(144.07, 0.00, 255.00)\",\"rgb(143.31, 0.00, 255.00)\",\"rgb(142.55, 0.00, 255.00)\",\"rgb(141.78, 0.00, 255.00)\",\"rgb(141.02, 0.00, 255.00)\",\"rgb(140.25, 0.00, 255.00)\",\"rgb(139.49, 0.00, 255.00)\",\"rgb(138.72, 0.00, 255.00)\",\"rgb(137.96, 0.00, 255.00)\",\"rgb(136.94, 0.00, 255.00)\",\"rgb(136.17, 0.00, 255.00)\",\"rgb(135.41, 0.00, 255.00)\",\"rgb(134.64, 0.00, 255.00)\",\"rgb(133.88, 0.00, 255.00)\",\"rgb(133.11, 0.00, 255.00)\",\"rgb(132.34, 0.00, 255.00)\",\"rgb(131.58, 0.00, 255.00)\",\"rgb(130.81, 0.00, 255.00)\",\"rgb(130.05, 0.00, 255.00)\",\"rgb(129.28, 0.00, 255.00)\",\"rgb(128.27, 0.00, 255.00)\",\"rgb(127.50, 0.00, 255.00)\",\"rgb(126.73, 0.00, 255.00)\",\"rgb(125.97, 0.00, 255.00)\",\"rgb(125.20, 0.00, 255.00)\",\"rgb(124.44, 0.00, 255.00)\",\"rgb(123.67, 0.00, 255.00)\",\"rgb(122.91, 0.00, 255.00)\",\"rgb(122.14, 0.00, 255.00)\",\"rgb(121.38, 0.00, 255.00)\",\"rgb(120.61, 0.00, 255.00)\",\"rgb(119.59, 0.00, 255.00)\",\"rgb(118.83, 0.00, 255.00)\",\"rgb(118.07, 0.00, 255.00)\",\"rgb(117.30, 0.00, 255.00)\",\"rgb(116.54, 0.00, 255.00)\",\"rgb(115.77, 0.00, 255.00)\",\"rgb(115.01, 0.00, 255.00)\",\"rgb(114.24, 0.00, 255.00)\",\"rgb(113.48, 0.00, 255.00)\",\"rgb(112.71, 0.00, 255.00)\",\"rgb(111.95, 0.00, 255.00)\",\"rgb(111.18, 0.00, 255.00)\",\"rgb(110.16, 0.00, 255.00)\",\"rgb(109.39, 0.00, 255.00)\",\"rgb(108.63, 0.00, 255.00)\",\"rgb(107.86, 0.00, 255.00)\",\"rgb(107.10, 0.00, 255.00)\",\"rgb(106.33, 0.00, 255.00)\",\"rgb(105.57, 0.00, 255.00)\",\"rgb(104.80, 0.00, 255.00)\",\"rgb(104.04, 0.00, 255.00)\",\"rgb(103.28, 0.00, 255.00)\",\"rgb(102.51, 0.00, 255.00)\",\"rgb(101.49, 0.00, 255.00)\",\"rgb(100.73, 0.00, 255.00)\",\"rgb(99.96, 0.00, 255.00)\",\"rgb(99.20, 0.00, 255.00)\",\"rgb(98.43, 0.00, 255.00)\",\"rgb(97.67, 0.00, 255.00)\",\"rgb(96.90, 0.00, 255.00)\",\"rgb(96.14, 0.00, 255.00)\",\"rgb(95.37, 0.00, 255.00)\",\"rgb(94.61, 0.00, 255.00)\",\"rgb(93.84, 0.00, 255.00)\",\"rgb(92.82, 0.00, 255.00)\",\"rgb(92.05, 0.00, 255.00)\",\"rgb(91.29, 0.00, 255.00)\",\"rgb(90.52, 0.00, 255.00)\",\"rgb(89.76, 0.00, 255.00)\",\"rgb(88.99, 0.00, 255.00)\",\"rgb(88.23, 0.00, 255.00)\",\"rgb(87.47, 0.00, 255.00)\",\"rgb(86.70, 0.00, 255.00)\",\"rgb(85.94, 0.00, 255.00)\",\"rgb(85.17, 0.00, 255.00)\",\"rgb(84.41, 0.00, 255.00)\",\"rgb(83.39, 0.00, 255.00)\",\"rgb(82.62, 0.00, 255.00)\",\"rgb(81.86, 0.00, 255.00)\",\"rgb(81.09, 0.00, 255.00)\",\"rgb(80.33, 0.00, 255.00)\",\"rgb(79.56, 0.00, 255.00)\",\"rgb(78.80, 0.00, 255.00)\",\"rgb(78.03, 0.00, 255.00)\",\"rgb(77.27, 0.00, 255.00)\",\"rgb(76.50, 0.00, 255.00)\",\"rgb(75.73, 0.00, 255.00)\",\"rgb(74.71, 0.00, 255.00)\",\"rgb(73.95, 0.00, 255.00)\",\"rgb(73.18, 0.00, 255.00)\",\"rgb(72.42, 0.00, 255.00)\",\"rgb(71.66, 0.00, 255.00)\",\"rgb(70.89, 0.00, 255.00)\",\"rgb(70.12, 0.00, 255.00)\",\"rgb(69.36, 0.00, 255.00)\",\"rgb(68.59, 0.00, 255.00)\",\"rgb(67.83, 0.00, 255.00)\",\"rgb(67.06, 0.00, 255.00)\",\"rgb(66.05, 0.00, 255.00)\",\"rgb(65.28, 0.00, 255.00)\",\"rgb(64.52, 0.00, 255.00)\",\"rgb(63.75, 0.00, 255.00)\",\"rgb(62.98, 0.00, 255.00)\",\"rgb(62.22, 0.00, 255.00)\",\"rgb(61.45, 0.00, 255.00)\",\"rgb(60.69, 0.00, 255.00)\",\"rgb(59.92, 0.00, 255.00)\",\"rgb(59.16, 0.00, 255.00)\",\"rgb(58.40, 0.00, 255.00)\",\"rgb(57.38, 0.00, 255.00)\",\"rgb(56.61, 0.00, 255.00)\",\"rgb(55.84, 0.00, 255.00)\",\"rgb(55.08, 0.00, 255.00)\",\"rgb(54.31, 0.00, 255.00)\",\"rgb(53.55, 0.00, 255.00)\",\"rgb(52.78, 0.00, 255.00)\",\"rgb(52.02, 0.00, 255.00)\",\"rgb(51.26, 0.00, 255.00)\",\"rgb(50.49, 0.00, 255.00)\",\"rgb(49.73, 0.00, 255.00)\",\"rgb(48.96, 0.00, 255.00)\",\"rgb(47.94, 0.00, 255.00)\",\"rgb(47.17, 0.00, 255.00)\",\"rgb(46.41, 0.00, 255.00)\",\"rgb(45.64, 0.00, 255.00)\",\"rgb(44.88, 0.00, 255.00)\",\"rgb(44.11, 0.00, 255.00)\",\"rgb(43.35, 0.00, 255.00)\",\"rgb(42.59, 0.00, 255.00)\",\"rgb(41.82, 0.00, 255.00)\",\"rgb(41.05, 0.00, 255.00)\",\"rgb(40.29, 0.00, 255.00)\",\"rgb(39.27, 0.00, 255.00)\",\"rgb(38.50, 0.00, 255.00)\",\"rgb(37.74, 0.00, 255.00)\",\"rgb(36.97, 0.00, 255.00)\",\"rgb(36.21, 0.00, 255.00)\",\"rgb(35.45, 0.00, 255.00)\",\"rgb(34.68, 0.00, 255.00)\",\"rgb(33.91, 0.00, 255.00)\",\"rgb(33.15, 0.00, 255.00)\",\"rgb(32.38, 0.00, 255.00)\",\"rgb(31.62, 0.00, 255.00)\",\"rgb(30.60, 0.00, 255.00)\",\"rgb(29.84, 0.00, 255.00)\",\"rgb(29.07, 0.00, 255.00)\",\"rgb(28.30, 0.00, 255.00)\",\"rgb(27.54, 0.00, 255.00)\",\"rgb(26.77, 0.00, 255.00)\",\"rgb(26.01, 0.00, 255.00)\",\"rgb(25.25, 0.00, 255.00)\",\"rgb(24.48, 0.00, 255.00)\",\"rgb(23.71, 0.00, 255.00)\",\"rgb(22.95, 0.00, 255.00)\",\"rgb(21.93, 0.00, 255.00)\",\"rgb(21.17, 0.00, 255.00)\",\"rgb(20.40, 0.00, 255.00)\",\"rgb(19.63, 0.00, 255.00)\",\"rgb(18.87, 0.00, 255.00)\",\"rgb(18.10, 0.00, 255.00)\",\"rgb(17.34, 0.00, 255.00)\",\"rgb(16.57, 0.00, 255.00)\",\"rgb(15.81, 0.00, 255.00)\",\"rgb(15.04, 0.00, 255.00)\",\"rgb(14.28, 0.00, 255.00)\",\"rgb(13.51, 0.00, 255.00)\",\"rgb(12.50, 0.00, 255.00)\",\"rgb(11.73, 0.00, 255.00)\",\"rgb(10.96, 0.00, 255.00)\",\"rgb(10.20, 0.00, 255.00)\",\"rgb(9.43, 0.00, 255.00)\",\"rgb(8.67, 0.00, 255.00)\",\"rgb(7.91, 0.00, 255.00)\",\"rgb(7.14, 0.00, 255.00)\",\"rgb(6.38, 0.00, 255.00)\",\"rgb(5.61, 0.00, 255.00)\",\"rgb(4.84, 0.00, 255.00)\",\"rgb(3.82, 0.00, 255.00)\",\"rgb(3.06, 0.00, 255.00)\",\"rgb(2.29, 0.00, 255.00)\",\"rgb(1.53, 0.00, 255.00)\",\"rgb(0.77, 0.00, 255.00)\",\"rgb(0.00, 0.00, 255.00)\",\"rgb(0.00, 1.02, 255.00)\",\"rgb(0.00, 2.04, 255.00)\",\"rgb(0.00, 3.06, 255.00)\",\"rgb(0.00, 3.82, 255.00)\",\"rgb(0.00, 4.84, 255.00)\",\"rgb(0.00, 5.87, 255.00)\",\"rgb(0.00, 6.88, 255.00)\",\"rgb(0.00, 7.91, 255.00)\",\"rgb(0.00, 8.93, 255.00)\",\"rgb(0.00, 9.95, 255.00)\",\"rgb(0.00, 10.71, 255.00)\",\"rgb(0.00, 11.73, 255.00)\",\"rgb(0.00, 12.75, 255.00)\",\"rgb(0.00, 13.77, 255.00)\",\"rgb(0.00, 14.79, 255.00)\",\"rgb(0.00, 15.81, 255.00)\",\"rgb(0.00, 16.83, 255.00)\",\"rgb(0.00, 17.60, 255.00)\",\"rgb(0.00, 18.61, 255.00)\",\"rgb(0.00, 19.63, 255.00)\",\"rgb(0.00, 20.66, 255.00)\",\"rgb(0.00, 21.68, 255.00)\",\"rgb(0.00, 22.70, 255.00)\",\"rgb(0.00, 23.71, 255.00)\",\"rgb(0.00, 24.73, 255.00)\",\"rgb(0.00, 25.50, 255.00)\",\"rgb(0.00, 26.52, 255.00)\",\"rgb(0.00, 27.54, 255.00)\",\"rgb(0.00, 28.56, 255.00)\",\"rgb(0.00, 29.58, 255.00)\",\"rgb(0.00, 30.60, 255.00)\",\"rgb(0.00, 31.62, 255.00)\",\"rgb(0.00, 32.38, 255.00)\",\"rgb(0.00, 33.41, 255.00)\",\"rgb(0.00, 34.43, 255.00)\",\"rgb(0.00, 35.45, 255.00)\",\"rgb(0.00, 36.46, 255.00)\",\"rgb(0.00, 37.48, 255.00)\",\"rgb(0.00, 38.50, 255.00)\",\"rgb(0.00, 39.27, 255.00)\",\"rgb(0.00, 40.29, 255.00)\",\"rgb(0.00, 41.31, 255.00)\",\"rgb(0.00, 42.33, 255.00)\",\"rgb(0.00, 43.35, 255.00)\",\"rgb(0.00, 44.37, 255.00)\",\"rgb(0.00, 45.39, 255.00)\",\"rgb(0.00, 46.16, 255.00)\",\"rgb(0.00, 47.17, 255.00)\",\"rgb(0.00, 48.20, 255.00)\",\"rgb(0.00, 49.22, 255.00)\",\"rgb(0.00, 50.23, 255.00)\",\"rgb(0.00, 51.26, 255.00)\",\"rgb(0.00, 52.27, 255.00)\",\"rgb(0.00, 53.04, 255.00)\",\"rgb(0.00, 54.06, 255.00)\",\"rgb(0.00, 55.08, 255.00)\",\"rgb(0.00, 56.10, 255.00)\",\"rgb(0.00, 57.12, 255.00)\",\"rgb(0.00, 58.14, 255.00)\",\"rgb(0.00, 59.16, 255.00)\",\"rgb(0.00, 60.18, 255.00)\",\"rgb(0.00, 60.95, 255.00)\",\"rgb(0.00, 61.96, 255.00)\",\"rgb(0.00, 62.98, 255.00)\",\"rgb(0.00, 64.00, 255.00)\",\"rgb(0.00, 65.03, 255.00)\",\"rgb(0.00, 66.05, 255.00)\",\"rgb(0.00, 67.06, 255.00)\",\"rgb(0.00, 67.83, 255.00)\",\"rgb(0.00, 68.85, 255.00)\",\"rgb(0.00, 69.87, 255.00)\",\"rgb(0.00, 70.89, 255.00)\",\"rgb(0.00, 71.91, 255.00)\",\"rgb(0.00, 72.93, 255.00)\",\"rgb(0.00, 73.95, 255.00)\",\"rgb(0.00, 74.71, 255.00)\",\"rgb(0.00, 75.73, 255.00)\",\"rgb(0.00, 76.75, 255.00)\",\"rgb(0.00, 77.77, 255.00)\",\"rgb(0.00, 78.80, 255.00)\",\"rgb(0.00, 79.81, 255.00)\",\"rgb(0.00, 80.84, 255.00)\",\"rgb(0.00, 81.60, 255.00)\",\"rgb(0.00, 82.62, 255.00)\",\"rgb(0.00, 83.64, 255.00)\",\"rgb(0.00, 84.66, 255.00)\",\"rgb(0.00, 85.68, 255.00)\",\"rgb(0.00, 86.70, 255.00)\",\"rgb(0.00, 87.72, 255.00)\",\"rgb(0.00, 88.48, 255.00)\",\"rgb(0.00, 89.50, 255.00)\",\"rgb(0.00, 90.52, 255.00)\",\"rgb(0.00, 91.55, 255.00)\",\"rgb(0.00, 92.56, 255.00)\",\"rgb(0.00, 93.58, 255.00)\",\"rgb(0.00, 94.61, 255.00)\",\"rgb(0.00, 95.62, 255.00)\",\"rgb(0.00, 96.39, 255.00)\",\"rgb(0.00, 97.41, 255.00)\",\"rgb(0.00, 98.43, 255.00)\",\"rgb(0.00, 99.45, 255.00)\",\"rgb(0.00, 100.47, 255.00)\",\"rgb(0.00, 101.49, 255.00)\",\"rgb(0.00, 102.51, 255.00)\",\"rgb(0.00, 103.28, 255.00)\",\"rgb(0.00, 104.29, 255.00)\",\"rgb(0.00, 105.31, 255.00)\",\"rgb(0.00, 106.33, 255.00)\",\"rgb(0.00, 107.35, 255.00)\",\"rgb(0.00, 108.38, 255.00)\",\"rgb(0.00, 109.39, 255.00)\",\"rgb(0.00, 110.16, 255.00)\",\"rgb(0.00, 111.18, 255.00)\",\"rgb(0.00, 112.20, 255.00)\",\"rgb(0.00, 113.22, 255.00)\",\"rgb(0.00, 114.24, 255.00)\",\"rgb(0.00, 115.26, 255.00)\",\"rgb(0.00, 116.28, 255.00)\",\"rgb(0.00, 117.05, 255.00)\",\"rgb(0.00, 118.07, 255.00)\",\"rgb(0.00, 119.09, 255.00)\",\"rgb(0.00, 120.10, 255.00)\",\"rgb(0.00, 121.12, 255.00)\",\"rgb(0.00, 122.14, 255.00)\",\"rgb(0.00, 123.16, 255.00)\",\"rgb(0.00, 123.93, 255.00)\",\"rgb(0.00, 124.95, 255.00)\",\"rgb(0.00, 125.97, 255.00)\",\"rgb(0.00, 126.99, 255.00)\",\"rgb(0.00, 128.01, 255.00)\",\"rgb(0.00, 129.03, 255.00)\",\"rgb(0.00, 130.05, 255.00)\",\"rgb(0.00, 131.07, 255.00)\",\"rgb(0.00, 131.84, 255.00)\",\"rgb(0.00, 132.86, 255.00)\",\"rgb(0.00, 133.88, 255.00)\",\"rgb(0.00, 134.90, 255.00)\",\"rgb(0.00, 135.92, 255.00)\",\"rgb(0.00, 136.94, 255.00)\",\"rgb(0.00, 137.96, 255.00)\",\"rgb(0.00, 138.72, 255.00)\",\"rgb(0.00, 139.74, 255.00)\",\"rgb(0.00, 140.76, 255.00)\",\"rgb(0.00, 141.78, 255.00)\",\"rgb(0.00, 142.80, 255.00)\",\"rgb(0.00, 143.82, 255.00)\",\"rgb(0.00, 144.84, 255.00)\",\"rgb(0.00, 145.60, 255.00)\",\"rgb(0.00, 146.62, 255.00)\",\"rgb(0.00, 147.64, 255.00)\",\"rgb(0.00, 148.66, 255.00)\",\"rgb(0.00, 149.69, 255.00)\",\"rgb(0.00, 150.70, 255.00)\",\"rgb(0.00, 151.72, 255.00)\",\"rgb(0.00, 152.49, 255.00)\",\"rgb(0.00, 153.51, 255.00)\",\"rgb(0.00, 154.53, 255.00)\",\"rgb(0.00, 155.55, 255.00)\",\"rgb(0.00, 156.57, 255.00)\",\"rgb(0.00, 157.59, 255.00)\",\"rgb(0.00, 158.61, 255.00)\",\"rgb(0.00, 159.38, 255.00)\",\"rgb(0.00, 160.40, 255.00)\",\"rgb(0.00, 161.41, 255.00)\",\"rgb(0.00, 162.44, 255.00)\",\"rgb(0.00, 163.46, 255.00)\",\"rgb(0.00, 164.47, 255.00)\",\"rgb(0.00, 165.50, 255.00)\",\"rgb(0.00, 166.52, 255.00)\",\"rgb(0.00, 167.28, 255.00)\",\"rgb(0.00, 168.30, 255.00)\",\"rgb(0.00, 169.32, 255.00)\",\"rgb(0.00, 170.34, 255.00)\",\"rgb(0.00, 171.36, 255.00)\",\"rgb(0.00, 172.38, 255.00)\",\"rgb(0.00, 173.40, 255.00)\",\"rgb(0.00, 174.17, 255.00)\",\"rgb(0.00, 175.19, 255.00)\",\"rgb(0.00, 176.20, 255.00)\",\"rgb(0.00, 177.22, 255.00)\",\"rgb(0.00, 178.24, 255.00)\",\"rgb(0.00, 179.26, 255.00)\",\"rgb(0.00, 180.28, 255.00)\",\"rgb(0.00, 181.05, 255.00)\",\"rgb(0.00, 182.07, 255.00)\",\"rgb(0.00, 183.09, 255.00)\",\"rgb(0.00, 184.11, 255.00)\",\"rgb(0.00, 185.13, 255.00)\",\"rgb(0.00, 186.15, 255.00)\",\"rgb(0.00, 187.17, 255.00)\",\"rgb(0.00, 187.94, 255.00)\",\"rgb(0.00, 188.95, 255.00)\",\"rgb(0.00, 189.97, 255.00)\",\"rgb(0.00, 191.00, 255.00)\",\"rgb(0.00, 192.02, 255.00)\",\"rgb(0.00, 193.03, 255.00)\",\"rgb(0.00, 194.06, 255.00)\",\"rgb(0.00, 194.82, 255.00)\",\"rgb(0.00, 195.84, 255.00)\",\"rgb(0.00, 196.86, 255.00)\",\"rgb(0.00, 197.88, 255.00)\",\"rgb(0.00, 198.90, 255.00)\",\"rgb(0.00, 199.92, 255.00)\",\"rgb(0.00, 200.94, 255.00)\",\"rgb(0.00, 201.96, 255.00)\",\"rgb(0.00, 202.73, 255.00)\",\"rgb(0.00, 203.75, 255.00)\",\"rgb(0.00, 204.77, 255.00)\",\"rgb(0.00, 205.79, 255.00)\",\"rgb(0.00, 206.81, 255.00)\",\"rgb(0.00, 207.82, 255.00)\",\"rgb(0.00, 208.84, 255.00)\",\"rgb(0.00, 209.61, 255.00)\",\"rgb(0.00, 210.63, 255.00)\",\"rgb(0.00, 211.65, 255.00)\",\"rgb(0.00, 212.67, 255.00)\",\"rgb(0.00, 213.69, 255.00)\",\"rgb(0.00, 214.71, 255.00)\",\"rgb(0.00, 215.73, 255.00)\",\"rgb(0.00, 216.50, 255.00)\",\"rgb(0.00, 217.51, 255.00)\",\"rgb(0.00, 218.53, 255.00)\",\"rgb(0.00, 219.56, 255.00)\",\"rgb(0.00, 220.57, 255.00)\",\"rgb(0.00, 221.59, 255.00)\",\"rgb(0.00, 222.62, 255.00)\",\"rgb(0.00, 223.38, 255.00)\",\"rgb(0.00, 224.40, 255.00)\",\"rgb(0.00, 225.42, 255.00)\",\"rgb(0.00, 226.44, 255.00)\",\"rgb(0.00, 227.46, 255.00)\",\"rgb(0.00, 228.48, 255.00)\",\"rgb(0.00, 229.50, 255.00)\",\"rgb(0.00, 230.27, 255.00)\",\"rgb(0.00, 231.28, 255.00)\",\"rgb(0.00, 232.31, 255.00)\",\"rgb(0.00, 233.33, 255.00)\",\"rgb(0.00, 234.34, 255.00)\",\"rgb(0.00, 235.37, 255.00)\",\"rgb(0.00, 236.39, 255.00)\",\"rgb(0.00, 237.41, 255.00)\",\"rgb(0.00, 238.17, 255.00)\",\"rgb(0.00, 239.19, 255.00)\",\"rgb(0.00, 240.21, 255.00)\",\"rgb(0.00, 241.23, 255.00)\",\"rgb(0.00, 242.25, 255.00)\",\"rgb(0.00, 243.27, 255.00)\",\"rgb(0.00, 244.29, 255.00)\",\"rgb(0.00, 245.05, 255.00)\",\"rgb(0.00, 246.07, 255.00)\",\"rgb(0.00, 247.09, 255.00)\",\"rgb(0.00, 248.11, 255.00)\",\"rgb(0.00, 249.13, 255.00)\",\"rgb(0.00, 250.16, 255.00)\",\"rgb(0.00, 251.17, 255.00)\",\"rgb(0.00, 251.94, 255.00)\",\"rgb(0.00, 252.96, 255.00)\",\"rgb(0.00, 253.98, 255.00)\"],\"width\":4},\"mode\":\"lines\",\"showlegend\":false,\"x\":[120.0,102.683,102.683,120.0,137.317,137.317,120.0,119.951,102.745,102.745,119.951,137.156,137.156,119.951,119.835,102.74,102.74,119.835,136.93,136.93,119.835,119.68,102.686,102.686,119.68,136.674,136.674,119.68,119.511,102.608,102.608,119.511,136.414,136.414,119.511,119.35,102.53,102.53,119.35,136.17,136.17,119.35,119.216,102.475,102.475,119.216,135.957,135.957,119.216,119.132,102.477,102.477,119.132,135.787,135.787,119.132,119.108,102.55,102.55,119.108,135.666,135.666,119.108,119.155,102.712,102.712,119.155,135.599,135.599,119.155,119.281,102.973,102.973,119.281,135.59,135.59,119.281,119.492,103.341,103.341,119.492,135.643,135.643,119.492,119.791,103.828,103.828,119.791,135.753,135.753,119.791,120.186,104.423,104.423,120.186,135.948,135.948,120.186,120.667,105.117,105.117,120.667,136.217,136.217,120.667,121.229,105.899,105.899,121.229,136.559,136.559,121.229,121.867,106.76,106.76,121.867,136.973,136.973,121.867,122.573,107.686,107.686,122.573,137.46,137.46,122.573,123.341,108.667,108.667,123.341,138.016,138.016,123.341,124.163,109.69,109.69,124.163,138.637,138.637,124.163,125.032,110.745,110.745,125.032,139.319,139.319,125.032,125.939,111.821,111.821,125.939,140.057,140.057,125.939,126.877,112.909,112.909,126.877,140.844,140.844,126.877,127.838,114.002,114.002,127.838,141.673,141.673,127.838,128.815,115.091,115.091,128.815,142.539,142.539,128.815,129.801,116.17,116.17,129.801,143.433,143.433,129.801,130.79,117.231,117.231,130.79,144.348,144.348,130.79,131.773,118.269,118.269,131.773,145.277,145.277,131.773,132.745,119.278,119.278,132.745,146.212,146.212,132.745,133.698,120.251,120.251,133.698,147.144,147.144,133.698,134.625,121.183,121.183,134.625,148.066,148.066,134.625,135.518,122.069,122.069,135.518,148.967,148.967,135.518,136.37,122.902,122.902,136.37,149.837,149.837,136.37,137.172,123.677,123.677,137.172,150.666,150.666,137.172,137.916,124.39,124.39,137.916,151.442,151.442,137.916,138.593,125.035,125.035,138.593,152.15,152.15,138.593,139.193,125.608,125.608,139.193,152.777,152.777,139.193,139.706,126.105,126.105,139.706,153.307,153.307,139.706,140.122,126.522,126.522,140.122,153.722,153.722,140.122,140.432,126.857,126.857,140.432,154.007,154.007,140.432,140.626,127.107,127.107,140.626,154.145,154.145,140.626,140.695,127.27,127.27,140.695,154.12,154.12,140.695,140.632,127.344,127.344,140.632,153.921,153.921,140.632,140.432,127.326,127.326,140.432,153.538,153.538,140.432,140.091,127.214,127.214,140.091,152.968,152.968,140.091,139.608,127.004,127.004,139.608,152.211,152.211,139.608,138.983,126.693,126.693,138.983,151.274,151.274,138.983,138.223,126.278,126.278,138.223,150.167,150.167,138.223,137.33,125.757,125.757,137.33,148.904,148.904,137.33,136.315,125.129,125.129,136.315,147.5,147.5,136.315,135.184,124.395,124.395,135.184,145.973,145.973,135.184,133.947,123.557,123.557,133.947,144.337,144.337,133.947,132.613,122.617,122.617,132.613,142.609,142.609,132.613,131.191,121.582,121.582,131.191,140.8,140.8,131.191,129.69,120.456,120.456,129.69,138.924,138.924,129.69,128.117,119.272,119.272,128.117,136.962,136.962,128.117,126.473,118.02,118.02,126.473,134.926,134.926,126.473,124.762,116.645,116.645,124.762,132.88,132.88,124.762,123.0,115.203,115.203,123.0,130.797,130.797,123.0,121.191,113.701,113.701,121.191,128.68,128.68,121.191,119.338,112.155,112.155,119.338,126.521,126.521,119.338,117.444,110.615,110.615,117.444,124.274,124.274,117.444,115.504,108.945,108.945,115.504,122.063,122.063,115.504,113.531,107.235,107.235,113.531,119.827,119.827,113.531,111.528,105.489,105.489,111.528,117.566,117.566,111.528,109.496,103.745,103.745,109.496,115.247,115.247,109.496,107.432,101.964,101.964,107.432,112.901,112.901,107.432,105.339,100.115,100.115,105.339,110.562,110.562,105.339,103.222,98.247,98.247,103.222,108.196,108.196,103.222,101.08,96.361,96.361,101.08,105.799,105.799,101.08,98.915,94.464,94.464,98.915,103.366,103.366,98.915,96.726,92.572,92.572,96.726,100.88,100.88,96.726,94.511,90.676,90.676,94.511,98.345,98.345,94.511,92.269,88.783,88.783,92.269,95.755,95.755,92.269],\"y\":[120.0,110.0,90.0,80.0,90.0,110.0,120.0,119.89,109.945,90.055,80.11,90.055,109.945,119.89,119.781,109.89,90.11,80.219,90.11,109.89,119.781,119.671,109.836,90.164,80.329,90.164,109.836,119.671,119.562,109.781,90.219,80.438,90.219,109.781,119.562,119.452,109.726,90.274,80.548,90.274,109.726,119.452,119.342,109.671,90.329,80.658,90.329,109.671,119.342,119.233,109.616,90.384,80.767,90.384,109.616,119.233,119.123,109.562,90.438,80.877,90.438,109.562,119.123,119.014,109.507,90.493,80.986,90.493,109.507,119.014,118.904,109.452,90.548,81.096,90.548,109.452,118.904,118.795,109.397,90.603,81.205,90.603,109.397,118.795,118.685,109.342,90.658,81.315,90.658,109.342,118.685,118.575,109.288,90.712,81.425,90.712,109.288,118.575,118.466,109.233,90.767,81.534,90.767,109.233,118.466,118.356,109.178,90.822,81.644,90.822,109.178,118.356,118.247,109.123,90.877,81.753,90.877,109.123,118.247,118.137,109.068,90.932,81.863,90.932,109.068,118.137,118.027,109.014,90.986,81.973,90.986,109.014,118.027,117.918,108.959,91.041,82.082,91.041,108.959,117.918,117.808,108.904,91.096,82.192,91.096,108.904,117.808,117.699,108.849,91.151,82.301,91.151,108.849,117.699,117.589,108.795,91.205,82.411,91.205,108.795,117.589,117.479,108.74,91.26,82.521,91.26,108.74,117.479,117.37,108.685,91.315,82.63,91.315,108.685,117.37,117.26,108.63,91.37,82.74,91.37,108.63,117.26,117.151,108.575,91.425,82.849,91.425,108.575,117.151,117.041,108.521,91.479,82.959,91.479,108.521,117.041,116.932,108.466,91.534,83.068,91.534,108.466,116.932,116.822,108.411,91.589,83.178,91.589,108.411,116.822,116.712,108.356,91.644,83.288,91.644,108.356,116.712,116.603,108.301,91.699,83.397,91.699,108.301,116.603,116.493,108.247,91.753,83.507,91.753,108.247,116.493,116.384,108.192,91.808,83.616,91.808,108.192,116.384,116.274,108.137,91.863,83.726,91.863,108.137,116.274,116.164,108.082,91.918,83.836,91.918,108.082,116.164,116.055,108.027,91.973,83.945,91.973,108.027,116.055,115.945,107.973,92.027,84.055,92.027,107.973,115.945,115.836,107.918,92.082,84.164,92.082,107.918,115.836,115.726,107.863,92.137,84.274,92.137,107.863,115.726,115.616,107.808,92.192,84.384,92.192,107.808,115.616,115.507,107.753,92.247,84.493,92.247,107.753,115.507,115.397,107.699,92.301,84.603,92.301,107.699,115.397,115.288,107.644,92.356,84.712,92.356,107.644,115.288,115.178,107.589,92.411,84.822,92.411,107.589,115.178,115.068,107.534,92.466,84.932,92.466,107.534,115.068,114.959,107.479,92.521,85.041,92.521,107.479,114.959,114.849,107.425,92.575,85.151,92.575,107.425,114.849,114.74,107.37,92.63,85.26,92.63,107.37,114.74,114.63,107.315,92.685,85.37,92.685,107.315,114.63,114.521,107.26,92.74,85.479,92.74,107.26,114.521,114.411,107.205,92.795,85.589,92.795,107.205,114.411,114.301,107.151,92.849,85.699,92.849,107.151,114.301,114.192,107.096,92.904,85.808,92.904,107.096,114.192,114.082,107.041,92.959,85.918,92.959,107.041,114.082,113.973,106.986,93.014,86.027,93.014,106.986,113.973,113.863,106.932,93.068,86.137,93.068,106.932,113.863,113.753,106.877,93.123,86.247,93.123,106.877,113.753,113.644,106.822,93.178,86.356,93.178,106.822,113.644,113.534,106.767,93.233,86.466,93.233,106.767,113.534,113.425,106.712,93.288,86.575,93.288,106.712,113.425,113.315,106.658,93.342,86.685,93.342,106.658,113.315,113.205,106.603,93.397,86.795,93.397,106.603,113.205,113.096,106.548,93.452,86.904,93.452,106.548,113.096,112.986,106.493,93.507,87.014,93.507,106.493,112.986,112.877,106.438,93.562,87.123,93.562,106.438,112.877,112.767,106.384,93.616,87.233,93.616,106.384,112.767,112.658,106.329,93.671,87.342,93.671,106.329,112.658,112.548,106.274,93.726,87.452,93.726,106.274,112.548,112.438,106.219,93.781,87.562,93.781,106.219,112.438,112.329,106.164,93.836,87.671,93.836,106.164,112.329,112.219,106.11,93.89,87.781,93.89,106.11,112.219,112.11,106.055,93.945,87.89,93.945,106.055,112.11,112.0,106.0,94.0,88.0,94.0,106.0,112.0],\"z\":[0.0,-0.354,-0.354,0.0,0.354,0.354,0.0,2.408,1.579,1.579,2.408,3.237,3.237,2.408,4.814,3.713,3.713,4.814,5.914,5.914,4.814,7.217,6.022,6.022,7.217,8.412,8.412,7.217,9.62,8.485,8.485,9.62,10.755,10.755,9.62,12.023,11.086,11.086,12.023,12.96,12.96,12.023,14.428,13.845,13.845,14.428,15.011,15.011,14.428,16.835,16.67,16.67,16.835,17.0,17.0,16.835,19.243,19.567,19.567,19.243,18.92,18.92,19.243,21.651,22.514,22.514,21.651,20.789,20.789,21.651,24.056,25.49,25.49,24.056,22.623,22.623,24.056,26.455,28.473,28.473,26.455,24.438,24.438,26.455,28.845,31.499,31.499,28.845,26.192,26.192,28.845,31.221,34.435,34.435,31.221,28.007,28.007,31.221,33.581,37.314,37.314,33.581,29.848,29.848,33.581,35.923,40.132,40.132,35.923,31.714,31.714,35.923,38.245,42.881,42.881,38.245,33.61,33.61,38.245,40.548,45.557,45.557,40.548,35.538,35.538,40.548,42.83,48.16,48.16,42.83,37.501,37.501,42.83,45.094,50.689,50.689,45.094,39.499,39.499,45.094,47.341,53.148,53.148,47.341,41.534,41.534,47.341,49.572,55.54,55.54,49.572,43.604,43.604,49.572,51.791,57.869,57.869,51.791,45.712,45.712,51.791,53.999,60.141,60.141,53.999,47.857,47.857,53.999,56.2,62.36,62.36,56.2,50.04,50.04,56.2,58.398,64.532,64.532,58.398,52.264,52.264,58.398,60.594,66.659,66.659,60.594,54.529,54.529,60.594,62.793,68.747,68.747,62.793,56.839,56.839,62.793,64.997,70.798,70.798,64.997,59.196,59.196,64.997,67.209,72.815,72.815,67.209,61.603,61.603,67.209,69.432,74.8,74.8,69.432,64.064,64.064,69.432,71.669,76.754,76.754,71.669,66.583,66.583,71.669,73.922,78.68,78.68,73.922,69.164,69.164,73.922,76.192,80.576,80.576,76.192,71.809,71.809,76.192,78.483,82.443,82.443,78.483,74.523,74.523,78.483,80.794,84.281,84.281,80.794,77.308,77.308,80.794,83.127,86.089,86.089,83.127,80.164,80.164,83.127,85.48,87.868,87.868,85.48,83.092,83.092,85.48,87.852,89.616,89.616,87.852,86.087,86.087,87.852,90.24,91.336,91.336,90.24,89.143,89.143,90.24,92.64,93.029,93.029,92.64,92.251,92.251,92.64,95.047,94.697,94.697,95.047,95.397,95.397,95.047,97.454,96.345,96.345,97.454,98.563,98.563,97.454,99.853,97.977,97.977,99.853,101.73,101.73,99.853,102.237,99.598,99.598,102.237,104.876,104.876,102.237,104.596,101.214,101.214,104.596,107.978,107.978,104.596,106.922,102.828,102.828,106.922,111.016,111.016,106.922,109.206,104.442,104.442,109.206,113.97,113.97,109.206,111.443,106.058,106.058,111.443,116.828,116.828,111.443,113.626,107.675,107.675,113.626,119.577,119.577,113.626,115.752,109.291,109.291,115.752,122.212,122.212,115.752,117.817,110.904,110.904,117.817,124.731,124.731,117.817,119.822,112.509,112.509,119.822,127.135,127.135,119.822,121.765,114.102,114.102,121.765,129.428,129.428,121.765,123.648,115.681,115.681,123.648,131.615,131.615,123.648,125.471,117.214,117.214,125.471,133.729,133.729,125.471,127.232,118.706,118.706,127.232,135.758,135.758,127.232,128.928,120.211,120.211,128.928,137.644,137.644,128.928,130.569,121.691,121.691,130.569,139.447,139.447,130.569,132.158,123.142,123.142,132.158,141.174,141.174,132.158,133.697,124.556,124.556,133.697,142.838,142.838,133.697,135.185,125.894,125.894,135.185,144.476,144.476,135.185,136.612,127.243,127.243,136.612,145.98,145.98,136.612,137.993,128.56,128.56,137.993,147.426,147.426,137.993,139.33,129.842,129.842,139.33,148.818,148.818,139.33,140.623,131.069,131.069,140.623,150.177,150.177,140.623,141.865,132.256,132.256,141.865,151.475,151.475,141.865,143.056,133.419,133.419,143.056,152.694,152.694,143.056,144.204,134.543,134.543,144.204,153.865,153.865,144.204,145.307,135.623,135.623,145.307,154.99,154.99,145.307,146.362,136.657,136.657,146.362,156.067,156.067,146.362,147.366,137.633,137.633,147.366,157.099,157.099,147.366,148.311,138.55,138.55,148.311,158.072,158.072,148.311,149.192,139.402,139.402,149.192,158.982,158.982,149.192],\"type\":\"scatter3d\"},{\"marker\":{\"color\":\"red\",\"size\":2},\"mode\":\"markers\",\"showlegend\":false,\"x\":[120.0,119.95077149938999,119.83488676383482,119.68012240063321,119.51117097580052,119.34983742649547,119.2158536587031,119.13200464887,119.10819984989294,119.15526477474631,119.28142187209406,119.49225153472132,119.79072208247054,120.18570279426656,120.6668588173291,121.22902448631746,121.8666497741797,122.57316228158238,123.34131496100058,124.16348145868297,125.03188791881128,125.93877928535838,126.87652476645607,127.83767094788124,128.8149524881049,129.80127011862342,130.78964453968842,131.77315333553676,132.74485665151704,133.69771634156987,134.62451276304176,135.51776345418668,136.36964862272922,137.17194970438578,137.91600915115094,138.59272188416517,139.19257108321608,139.7057224632512,140.12219082571414,140.43208910508764,140.6259620363777,140.6951933135222,140.63245763620694,140.4321706345958,140.09087589906915,139.60750564469737,138.98346432907957,138.22251224958958,137.3304620858667,136.31473482703169,135.18384244911135,133.9468680983958,132.61300212953503,131.19117075829888,129.6897711252694,128.11650806281574,126.47281414197606,124.76246992533407,123.00015600691198,121.190677844541,119.33813217171372,117.44428143890076,115.50362518790008,113.53075328075174,111.52760758380386,109.49577120420395,107.43218124824344,105.33887889166964,103.22151010280103,101.08032794922673,98.91529908665248,96.72603460736524,94.5107701726809,92.26899164005395,90.0],\"y\":[100.0,100.0,100.0,100.0,100.0,100.0,100.0,100.0,100.0,100.0,100.0,100.0,100.0,100.0,100.0,100.0,100.0,100.0,100.0,100.0,100.0,100.0,100.0,100.0,100.0,100.0,100.0,100.0,100.0,100.0,100.0,100.0,100.0,100.0,100.0,100.0,100.0,100.0,100.0,100.0,100.0,100.0,100.0,100.0,100.0,100.0,100.0,100.0,100.0,100.0,100.0,100.0,100.0,100.0,100.0,100.0,100.0,100.0,100.0,100.0,100.0,100.0,100.0,100.0,100.0,100.0,100.0,100.0,100.0,100.0,100.0,100.0,100.0,100.0,100.0],\"z\":[0.0,2.4079920171446707,4.813729068119336,7.217329046047194,9.61999675217564,12.023182139026133,14.428031370961548,16.835102738550397,19.243432786227558,21.651347273552428,24.056380166210182,26.455496079084043,28.84537689903425,31.221225985443777,33.581066103284,35.92289460596674,38.24531731546991,40.54774963362868,42.830399960679856,45.09420139820614,47.340711156943414,49.57199545468556,51.79051383705274,53.999012236564575,56.20042973416043,58.39782044465862,60.59428936293413,62.79293928658315,64.99682487226544,67.20890927504563,69.43201849801127,71.66878845536834,73.92159983131423,76.19249620769324,78.48308185239246,80.79439732356406,83.12677402495191,85.47967337017242,87.85152236158434,90.23956471480973,92.639753869767,95.04671901913034,97.45383460895087,99.8534147966718,102.23703609066612,104.59596629162404,106.92165226036816,109.206201487807,111.44279000977913,113.62594376406771,115.75166737015769,117.81742448557453,119.82199824400392,121.76527338380448,123.64798304445351,125.47145603875988,127.23203267003217,128.92772372437818,130.56898972022026,132.15805895075258,133.69694453191568,135.1851277134532,136.6116596310863,137.99292599311295,139.32989371835592,140.62311298594534,141.86527089605428,143.05646228744337,144.20410416739685,145.30667891138452,146.36180757463455,147.3659108039271,148.3114071097951,149.19210275941148,150.0],\"type\":\"scatter3d\"}],                        {\"template\":{\"data\":{\"barpolar\":[{\"marker\":{\"line\":{\"color\":\"rgb(17,17,17)\",\"width\":0.5},\"pattern\":{\"fillmode\":\"overlay\",\"size\":10,\"solidity\":0.2}},\"type\":\"barpolar\"}],\"bar\":[{\"error_x\":{\"color\":\"#f2f5fa\"},\"error_y\":{\"color\":\"#f2f5fa\"},\"marker\":{\"line\":{\"color\":\"rgb(17,17,17)\",\"width\":0.5},\"pattern\":{\"fillmode\":\"overlay\",\"size\":10,\"solidity\":0.2}},\"type\":\"bar\"}],\"carpet\":[{\"aaxis\":{\"endlinecolor\":\"#A2B1C6\",\"gridcolor\":\"#506784\",\"linecolor\":\"#506784\",\"minorgridcolor\":\"#506784\",\"startlinecolor\":\"#A2B1C6\"},\"baxis\":{\"endlinecolor\":\"#A2B1C6\",\"gridcolor\":\"#506784\",\"linecolor\":\"#506784\",\"minorgridcolor\":\"#506784\",\"startlinecolor\":\"#A2B1C6\"},\"type\":\"carpet\"}],\"choropleth\":[{\"colorbar\":{\"outlinewidth\":0,\"ticks\":\"\"},\"type\":\"choropleth\"}],\"contourcarpet\":[{\"colorbar\":{\"outlinewidth\":0,\"ticks\":\"\"},\"type\":\"contourcarpet\"}],\"contour\":[{\"colorbar\":{\"outlinewidth\":0,\"ticks\":\"\"},\"colorscale\":[[0.0,\"#0d0887\"],[0.1111111111111111,\"#46039f\"],[0.2222222222222222,\"#7201a8\"],[0.3333333333333333,\"#9c179e\"],[0.4444444444444444,\"#bd3786\"],[0.5555555555555556,\"#d8576b\"],[0.6666666666666666,\"#ed7953\"],[0.7777777777777778,\"#fb9f3a\"],[0.8888888888888888,\"#fdca26\"],[1.0,\"#f0f921\"]],\"type\":\"contour\"}],\"heatmapgl\":[{\"colorbar\":{\"outlinewidth\":0,\"ticks\":\"\"},\"colorscale\":[[0.0,\"#0d0887\"],[0.1111111111111111,\"#46039f\"],[0.2222222222222222,\"#7201a8\"],[0.3333333333333333,\"#9c179e\"],[0.4444444444444444,\"#bd3786\"],[0.5555555555555556,\"#d8576b\"],[0.6666666666666666,\"#ed7953\"],[0.7777777777777778,\"#fb9f3a\"],[0.8888888888888888,\"#fdca26\"],[1.0,\"#f0f921\"]],\"type\":\"heatmapgl\"}],\"heatmap\":[{\"colorbar\":{\"outlinewidth\":0,\"ticks\":\"\"},\"colorscale\":[[0.0,\"#0d0887\"],[0.1111111111111111,\"#46039f\"],[0.2222222222222222,\"#7201a8\"],[0.3333333333333333,\"#9c179e\"],[0.4444444444444444,\"#bd3786\"],[0.5555555555555556,\"#d8576b\"],[0.6666666666666666,\"#ed7953\"],[0.7777777777777778,\"#fb9f3a\"],[0.8888888888888888,\"#fdca26\"],[1.0,\"#f0f921\"]],\"type\":\"heatmap\"}],\"histogram2dcontour\":[{\"colorbar\":{\"outlinewidth\":0,\"ticks\":\"\"},\"colorscale\":[[0.0,\"#0d0887\"],[0.1111111111111111,\"#46039f\"],[0.2222222222222222,\"#7201a8\"],[0.3333333333333333,\"#9c179e\"],[0.4444444444444444,\"#bd3786\"],[0.5555555555555556,\"#d8576b\"],[0.6666666666666666,\"#ed7953\"],[0.7777777777777778,\"#fb9f3a\"],[0.8888888888888888,\"#fdca26\"],[1.0,\"#f0f921\"]],\"type\":\"histogram2dcontour\"}],\"histogram2d\":[{\"colorbar\":{\"outlinewidth\":0,\"ticks\":\"\"},\"colorscale\":[[0.0,\"#0d0887\"],[0.1111111111111111,\"#46039f\"],[0.2222222222222222,\"#7201a8\"],[0.3333333333333333,\"#9c179e\"],[0.4444444444444444,\"#bd3786\"],[0.5555555555555556,\"#d8576b\"],[0.6666666666666666,\"#ed7953\"],[0.7777777777777778,\"#fb9f3a\"],[0.8888888888888888,\"#fdca26\"],[1.0,\"#f0f921\"]],\"type\":\"histogram2d\"}],\"histogram\":[{\"marker\":{\"pattern\":{\"fillmode\":\"overlay\",\"size\":10,\"solidity\":0.2}},\"type\":\"histogram\"}],\"mesh3d\":[{\"colorbar\":{\"outlinewidth\":0,\"ticks\":\"\"},\"type\":\"mesh3d\"}],\"parcoords\":[{\"line\":{\"colorbar\":{\"outlinewidth\":0,\"ticks\":\"\"}},\"type\":\"parcoords\"}],\"pie\":[{\"automargin\":true,\"type\":\"pie\"}],\"scatter3d\":[{\"line\":{\"colorbar\":{\"outlinewidth\":0,\"ticks\":\"\"}},\"marker\":{\"colorbar\":{\"outlinewidth\":0,\"ticks\":\"\"}},\"type\":\"scatter3d\"}],\"scattercarpet\":[{\"marker\":{\"colorbar\":{\"outlinewidth\":0,\"ticks\":\"\"}},\"type\":\"scattercarpet\"}],\"scattergeo\":[{\"marker\":{\"colorbar\":{\"outlinewidth\":0,\"ticks\":\"\"}},\"type\":\"scattergeo\"}],\"scattergl\":[{\"marker\":{\"line\":{\"color\":\"#283442\"}},\"type\":\"scattergl\"}],\"scattermapbox\":[{\"marker\":{\"colorbar\":{\"outlinewidth\":0,\"ticks\":\"\"}},\"type\":\"scattermapbox\"}],\"scatterpolargl\":[{\"marker\":{\"colorbar\":{\"outlinewidth\":0,\"ticks\":\"\"}},\"type\":\"scatterpolargl\"}],\"scatterpolar\":[{\"marker\":{\"colorbar\":{\"outlinewidth\":0,\"ticks\":\"\"}},\"type\":\"scatterpolar\"}],\"scatter\":[{\"marker\":{\"line\":{\"color\":\"#283442\"}},\"type\":\"scatter\"}],\"scatterternary\":[{\"marker\":{\"colorbar\":{\"outlinewidth\":0,\"ticks\":\"\"}},\"type\":\"scatterternary\"}],\"surface\":[{\"colorbar\":{\"outlinewidth\":0,\"ticks\":\"\"},\"colorscale\":[[0.0,\"#0d0887\"],[0.1111111111111111,\"#46039f\"],[0.2222222222222222,\"#7201a8\"],[0.3333333333333333,\"#9c179e\"],[0.4444444444444444,\"#bd3786\"],[0.5555555555555556,\"#d8576b\"],[0.6666666666666666,\"#ed7953\"],[0.7777777777777778,\"#fb9f3a\"],[0.8888888888888888,\"#fdca26\"],[1.0,\"#f0f921\"]],\"type\":\"surface\"}],\"table\":[{\"cells\":{\"fill\":{\"color\":\"#506784\"},\"line\":{\"color\":\"rgb(17,17,17)\"}},\"header\":{\"fill\":{\"color\":\"#2a3f5f\"},\"line\":{\"color\":\"rgb(17,17,17)\"}},\"type\":\"table\"}]},\"layout\":{\"annotationdefaults\":{\"arrowcolor\":\"#f2f5fa\",\"arrowhead\":0,\"arrowwidth\":1},\"autotypenumbers\":\"strict\",\"coloraxis\":{\"colorbar\":{\"outlinewidth\":0,\"ticks\":\"\"}},\"colorscale\":{\"diverging\":[[0,\"#8e0152\"],[0.1,\"#c51b7d\"],[0.2,\"#de77ae\"],[0.3,\"#f1b6da\"],[0.4,\"#fde0ef\"],[0.5,\"#f7f7f7\"],[0.6,\"#e6f5d0\"],[0.7,\"#b8e186\"],[0.8,\"#7fbc41\"],[0.9,\"#4d9221\"],[1,\"#276419\"]],\"sequential\":[[0.0,\"#0d0887\"],[0.1111111111111111,\"#46039f\"],[0.2222222222222222,\"#7201a8\"],[0.3333333333333333,\"#9c179e\"],[0.4444444444444444,\"#bd3786\"],[0.5555555555555556,\"#d8576b\"],[0.6666666666666666,\"#ed7953\"],[0.7777777777777778,\"#fb9f3a\"],[0.8888888888888888,\"#fdca26\"],[1.0,\"#f0f921\"]],\"sequentialminus\":[[0.0,\"#0d0887\"],[0.1111111111111111,\"#46039f\"],[0.2222222222222222,\"#7201a8\"],[0.3333333333333333,\"#9c179e\"],[0.4444444444444444,\"#bd3786\"],[0.5555555555555556,\"#d8576b\"],[0.6666666666666666,\"#ed7953\"],[0.7777777777777778,\"#fb9f3a\"],[0.8888888888888888,\"#fdca26\"],[1.0,\"#f0f921\"]]},\"colorway\":[\"#636efa\",\"#EF553B\",\"#00cc96\",\"#ab63fa\",\"#FFA15A\",\"#19d3f3\",\"#FF6692\",\"#B6E880\",\"#FF97FF\",\"#FECB52\"],\"font\":{\"color\":\"#f2f5fa\"},\"geo\":{\"bgcolor\":\"rgb(17,17,17)\",\"lakecolor\":\"rgb(17,17,17)\",\"landcolor\":\"rgb(17,17,17)\",\"showlakes\":true,\"showland\":true,\"subunitcolor\":\"#506784\"},\"hoverlabel\":{\"align\":\"left\"},\"hovermode\":\"closest\",\"mapbox\":{\"style\":\"dark\"},\"paper_bgcolor\":\"rgb(17,17,17)\",\"plot_bgcolor\":\"rgb(17,17,17)\",\"polar\":{\"angularaxis\":{\"gridcolor\":\"#506784\",\"linecolor\":\"#506784\",\"ticks\":\"\"},\"bgcolor\":\"rgb(17,17,17)\",\"radialaxis\":{\"gridcolor\":\"#506784\",\"linecolor\":\"#506784\",\"ticks\":\"\"}},\"scene\":{\"xaxis\":{\"backgroundcolor\":\"rgb(17,17,17)\",\"gridcolor\":\"#506784\",\"gridwidth\":2,\"linecolor\":\"#506784\",\"showbackground\":true,\"ticks\":\"\",\"zerolinecolor\":\"#C8D4E3\"},\"yaxis\":{\"backgroundcolor\":\"rgb(17,17,17)\",\"gridcolor\":\"#506784\",\"gridwidth\":2,\"linecolor\":\"#506784\",\"showbackground\":true,\"ticks\":\"\",\"zerolinecolor\":\"#C8D4E3\"},\"zaxis\":{\"backgroundcolor\":\"rgb(17,17,17)\",\"gridcolor\":\"#506784\",\"gridwidth\":2,\"linecolor\":\"#506784\",\"showbackground\":true,\"ticks\":\"\",\"zerolinecolor\":\"#C8D4E3\"}},\"shapedefaults\":{\"line\":{\"color\":\"#f2f5fa\"}},\"sliderdefaults\":{\"bgcolor\":\"#C8D4E3\",\"bordercolor\":\"rgb(17,17,17)\",\"borderwidth\":1,\"tickwidth\":0},\"ternary\":{\"aaxis\":{\"gridcolor\":\"#506784\",\"linecolor\":\"#506784\",\"ticks\":\"\"},\"baxis\":{\"gridcolor\":\"#506784\",\"linecolor\":\"#506784\",\"ticks\":\"\"},\"bgcolor\":\"rgb(17,17,17)\",\"caxis\":{\"gridcolor\":\"#506784\",\"linecolor\":\"#506784\",\"ticks\":\"\"}},\"title\":{\"x\":0.05},\"updatemenudefaults\":{\"bgcolor\":\"#506784\",\"borderwidth\":0},\"xaxis\":{\"automargin\":true,\"gridcolor\":\"#283442\",\"linecolor\":\"#506784\",\"ticks\":\"\",\"title\":{\"standoff\":15},\"zerolinecolor\":\"#283442\",\"zerolinewidth\":2},\"yaxis\":{\"automargin\":true,\"gridcolor\":\"#283442\",\"linecolor\":\"#506784\",\"ticks\":\"\",\"title\":{\"standoff\":15},\"zerolinecolor\":\"#283442\",\"zerolinewidth\":2}}},\"scene\":{\"xaxis\":{\"backgroundcolor\":\"black\",\"nticks\":10,\"range\":[41.79467009788506,201.13301816167507]},\"yaxis\":{\"backgroundcolor\":\"black\",\"nticks\":10,\"range\":[20.33082596810499,179.669174031895]},\"zaxis\":{\"backgroundcolor\":\"black\",\"nticks\":10,\"range\":[-0.35402298157589107,159.33834806379002]},\"camera\":{\"eye\":{\"x\":-0.8333333333333334,\"y\":-1.6666666666666667,\"z\":0.33333333333333337},\"center\":{\"x\":0,\"y\":0,\"z\":-0.5}},\"aspectmode\":\"cube\",\"annotations\":[{\"showarrow\":false,\"text\":\"\",\"x\":120.0,\"y\":100.0,\"yshift\":10,\"z\":0.0},{\"showarrow\":false,\"text\":\"\",\"x\":119.95077149938999,\"y\":100.0,\"yshift\":10,\"z\":2.4079920171446707},{\"showarrow\":false,\"text\":\"\",\"x\":119.83488676383482,\"y\":100.0,\"yshift\":10,\"z\":4.813729068119336},{\"showarrow\":false,\"text\":\"\",\"x\":119.68012240063321,\"y\":100.0,\"yshift\":10,\"z\":7.217329046047194},{\"showarrow\":false,\"text\":\"\",\"x\":119.51117097580052,\"y\":100.0,\"yshift\":10,\"z\":9.61999675217564},{\"showarrow\":false,\"text\":\"\",\"x\":119.34983742649547,\"y\":100.0,\"yshift\":10,\"z\":12.023182139026133},{\"showarrow\":false,\"text\":\"\",\"x\":119.2158536587031,\"y\":100.0,\"yshift\":10,\"z\":14.428031370961548},{\"showarrow\":false,\"text\":\"\",\"x\":119.13200464887,\"y\":100.0,\"yshift\":10,\"z\":16.835102738550397},{\"showarrow\":false,\"text\":\"\",\"x\":119.10819984989294,\"y\":100.0,\"yshift\":10,\"z\":19.243432786227558},{\"showarrow\":false,\"text\":\"\",\"x\":119.15526477474631,\"y\":100.0,\"yshift\":10,\"z\":21.651347273552428},{\"showarrow\":false,\"text\":\"\",\"x\":119.28142187209406,\"y\":100.0,\"yshift\":10,\"z\":24.056380166210182},{\"showarrow\":false,\"text\":\"\",\"x\":119.49225153472132,\"y\":100.0,\"yshift\":10,\"z\":26.455496079084043},{\"showarrow\":false,\"text\":\"\",\"x\":119.79072208247054,\"y\":100.0,\"yshift\":10,\"z\":28.84537689903425},{\"showarrow\":false,\"text\":\"\",\"x\":120.18570279426656,\"y\":100.0,\"yshift\":10,\"z\":31.221225985443777},{\"showarrow\":false,\"text\":\"\",\"x\":120.6668588173291,\"y\":100.0,\"yshift\":10,\"z\":33.581066103284},{\"showarrow\":false,\"text\":\"\",\"x\":121.22902448631746,\"y\":100.0,\"yshift\":10,\"z\":35.92289460596674},{\"showarrow\":false,\"text\":\"\",\"x\":121.8666497741797,\"y\":100.0,\"yshift\":10,\"z\":38.24531731546991},{\"showarrow\":false,\"text\":\"\",\"x\":122.57316228158238,\"y\":100.0,\"yshift\":10,\"z\":40.54774963362868},{\"showarrow\":false,\"text\":\"\",\"x\":123.34131496100058,\"y\":100.0,\"yshift\":10,\"z\":42.830399960679856},{\"showarrow\":false,\"text\":\"\",\"x\":124.16348145868297,\"y\":100.0,\"yshift\":10,\"z\":45.09420139820614},{\"showarrow\":false,\"text\":\"\",\"x\":125.03188791881128,\"y\":100.0,\"yshift\":10,\"z\":47.340711156943414},{\"showarrow\":false,\"text\":\"\",\"x\":125.93877928535838,\"y\":100.0,\"yshift\":10,\"z\":49.57199545468556},{\"showarrow\":false,\"text\":\"\",\"x\":126.87652476645607,\"y\":100.0,\"yshift\":10,\"z\":51.79051383705274},{\"showarrow\":false,\"text\":\"\",\"x\":127.83767094788124,\"y\":100.0,\"yshift\":10,\"z\":53.999012236564575},{\"showarrow\":false,\"text\":\"\",\"x\":128.8149524881049,\"y\":100.0,\"yshift\":10,\"z\":56.20042973416043},{\"showarrow\":false,\"text\":\"\",\"x\":129.80127011862342,\"y\":100.0,\"yshift\":10,\"z\":58.39782044465862},{\"showarrow\":false,\"text\":\"\",\"x\":130.78964453968842,\"y\":100.0,\"yshift\":10,\"z\":60.59428936293413},{\"showarrow\":false,\"text\":\"\",\"x\":131.77315333553676,\"y\":100.0,\"yshift\":10,\"z\":62.79293928658315},{\"showarrow\":false,\"text\":\"\",\"x\":132.74485665151704,\"y\":100.0,\"yshift\":10,\"z\":64.99682487226544},{\"showarrow\":false,\"text\":\"\",\"x\":133.69771634156987,\"y\":100.0,\"yshift\":10,\"z\":67.20890927504563},{\"showarrow\":false,\"text\":\"\",\"x\":134.62451276304176,\"y\":100.0,\"yshift\":10,\"z\":69.43201849801127},{\"showarrow\":false,\"text\":\"\",\"x\":135.51776345418668,\"y\":100.0,\"yshift\":10,\"z\":71.66878845536834},{\"showarrow\":false,\"text\":\"\",\"x\":136.36964862272922,\"y\":100.0,\"yshift\":10,\"z\":73.92159983131423},{\"showarrow\":false,\"text\":\"\",\"x\":137.17194970438578,\"y\":100.0,\"yshift\":10,\"z\":76.19249620769324},{\"showarrow\":false,\"text\":\"\",\"x\":137.91600915115094,\"y\":100.0,\"yshift\":10,\"z\":78.48308185239246},{\"showarrow\":false,\"text\":\"\",\"x\":138.59272188416517,\"y\":100.0,\"yshift\":10,\"z\":80.79439732356406},{\"showarrow\":false,\"text\":\"\",\"x\":139.19257108321608,\"y\":100.0,\"yshift\":10,\"z\":83.12677402495191},{\"showarrow\":false,\"text\":\"\",\"x\":139.7057224632512,\"y\":100.0,\"yshift\":10,\"z\":85.47967337017242},{\"showarrow\":false,\"text\":\"\",\"x\":140.12219082571414,\"y\":100.0,\"yshift\":10,\"z\":87.85152236158434},{\"showarrow\":false,\"text\":\"\",\"x\":140.43208910508764,\"y\":100.0,\"yshift\":10,\"z\":90.23956471480973},{\"showarrow\":false,\"text\":\"\",\"x\":140.6259620363777,\"y\":100.0,\"yshift\":10,\"z\":92.639753869767},{\"showarrow\":false,\"text\":\"\",\"x\":140.6951933135222,\"y\":100.0,\"yshift\":10,\"z\":95.04671901913034},{\"showarrow\":false,\"text\":\"\",\"x\":140.63245763620694,\"y\":100.0,\"yshift\":10,\"z\":97.45383460895087},{\"showarrow\":false,\"text\":\"\",\"x\":140.4321706345958,\"y\":100.0,\"yshift\":10,\"z\":99.8534147966718},{\"showarrow\":false,\"text\":\"\",\"x\":140.09087589906915,\"y\":100.0,\"yshift\":10,\"z\":102.23703609066612},{\"showarrow\":false,\"text\":\"\",\"x\":139.60750564469737,\"y\":100.0,\"yshift\":10,\"z\":104.59596629162404},{\"showarrow\":false,\"text\":\"\",\"x\":138.98346432907957,\"y\":100.0,\"yshift\":10,\"z\":106.92165226036816},{\"showarrow\":false,\"text\":\"\",\"x\":138.22251224958958,\"y\":100.0,\"yshift\":10,\"z\":109.206201487807},{\"showarrow\":false,\"text\":\"\",\"x\":137.3304620858667,\"y\":100.0,\"yshift\":10,\"z\":111.44279000977913},{\"showarrow\":false,\"text\":\"\",\"x\":136.31473482703169,\"y\":100.0,\"yshift\":10,\"z\":113.62594376406771},{\"showarrow\":false,\"text\":\"\",\"x\":135.18384244911135,\"y\":100.0,\"yshift\":10,\"z\":115.75166737015769},{\"showarrow\":false,\"text\":\"\",\"x\":133.9468680983958,\"y\":100.0,\"yshift\":10,\"z\":117.81742448557453},{\"showarrow\":false,\"text\":\"\",\"x\":132.61300212953503,\"y\":100.0,\"yshift\":10,\"z\":119.82199824400392},{\"showarrow\":false,\"text\":\"\",\"x\":131.19117075829888,\"y\":100.0,\"yshift\":10,\"z\":121.76527338380448},{\"showarrow\":false,\"text\":\"\",\"x\":129.6897711252694,\"y\":100.0,\"yshift\":10,\"z\":123.64798304445351},{\"showarrow\":false,\"text\":\"\",\"x\":128.11650806281574,\"y\":100.0,\"yshift\":10,\"z\":125.47145603875988},{\"showarrow\":false,\"text\":\"\",\"x\":126.47281414197606,\"y\":100.0,\"yshift\":10,\"z\":127.23203267003217},{\"showarrow\":false,\"text\":\"\",\"x\":124.76246992533407,\"y\":100.0,\"yshift\":10,\"z\":128.92772372437818},{\"showarrow\":false,\"text\":\"\",\"x\":123.00015600691198,\"y\":100.0,\"yshift\":10,\"z\":130.56898972022026},{\"showarrow\":false,\"text\":\"\",\"x\":121.190677844541,\"y\":100.0,\"yshift\":10,\"z\":132.15805895075258},{\"showarrow\":false,\"text\":\"\",\"x\":119.33813217171372,\"y\":100.0,\"yshift\":10,\"z\":133.69694453191568},{\"showarrow\":false,\"text\":\"\",\"x\":117.44428143890076,\"y\":100.0,\"yshift\":10,\"z\":135.1851277134532},{\"showarrow\":false,\"text\":\"\",\"x\":115.50362518790008,\"y\":100.0,\"yshift\":10,\"z\":136.6116596310863},{\"showarrow\":false,\"text\":\"\",\"x\":113.53075328075174,\"y\":100.0,\"yshift\":10,\"z\":137.99292599311295},{\"showarrow\":false,\"text\":\"\",\"x\":111.52760758380386,\"y\":100.0,\"yshift\":10,\"z\":139.32989371835592},{\"showarrow\":false,\"text\":\"\",\"x\":109.49577120420395,\"y\":100.0,\"yshift\":10,\"z\":140.62311298594534},{\"showarrow\":false,\"text\":\"\",\"x\":107.43218124824344,\"y\":100.0,\"yshift\":10,\"z\":141.86527089605428},{\"showarrow\":false,\"text\":\"\",\"x\":105.33887889166964,\"y\":100.0,\"yshift\":10,\"z\":143.05646228744337},{\"showarrow\":false,\"text\":\"\",\"x\":103.22151010280103,\"y\":100.0,\"yshift\":10,\"z\":144.20410416739685},{\"showarrow\":false,\"text\":\"\",\"x\":101.08032794922673,\"y\":100.0,\"yshift\":10,\"z\":145.30667891138452},{\"showarrow\":false,\"text\":\"\",\"x\":98.91529908665248,\"y\":100.0,\"yshift\":10,\"z\":146.36180757463455},{\"showarrow\":false,\"text\":\"\",\"x\":96.72603460736524,\"y\":100.0,\"yshift\":10,\"z\":147.3659108039271},{\"showarrow\":false,\"text\":\"\",\"x\":94.5107701726809,\"y\":100.0,\"yshift\":10,\"z\":148.3114071097951},{\"showarrow\":false,\"text\":\"\",\"x\":92.26899164005395,\"y\":100.0,\"yshift\":10,\"z\":149.19210275941148},{\"showarrow\":false,\"text\":\"Not all layers shown in this preview\",\"x\":90.0,\"y\":100.0,\"yshift\":10,\"z\":150.0}]},\"margin\":{\"l\":10,\"r\":10,\"b\":10,\"t\":10,\"pad\":4},\"paper_bgcolor\":\"black\",\"width\":800,\"height\":500},                        {\"responsive\": true}                    ).then(function(){\n",
              "                            \n",
              "var gd = document.getElementById('722b85c8-9219-48a1-a625-9bb387468303');\n",
              "var x = new MutationObserver(function (mutations, observer) {{\n",
              "        var display = window.getComputedStyle(gd).display;\n",
              "        if (!display || display === 'none') {{\n",
              "            console.log([gd, 'removed!']);\n",
              "            Plotly.purge(gd);\n",
              "            observer.disconnect();\n",
              "        }}\n",
              "}});\n",
              "\n",
              "// Listen for the removal of the full notebook cells\n",
              "var notebookContainer = gd.closest('#notebook-container');\n",
              "if (notebookContainer) {{\n",
              "    x.observe(notebookContainer, {childList: true});\n",
              "}}\n",
              "\n",
              "// Listen for the clearing of the current output cell\n",
              "var outputEl = gd.closest('.output');\n",
              "if (outputEl) {{\n",
              "    x.observe(outputEl, {childList: true});\n",
              "}}\n",
              "\n",
              "                        })                };                            </script>        </div>\n",
              "</body>\n",
              "</html>"
            ]
          },
          "metadata": {},
          "output_type": "display_data"
        }
      ],
      "source": [
        "# @title **Demo FullControl Design** { display-mode: \"form\"}\n",
        "\n",
        "# @markdown #### **🡸 Click ▶︎ button to connect to python** --- *connection may take ~20 seconds*\n",
        "# @markdown  #### **🡸 Click it again** to regenerate the design after changing parameters **(or press *`shift + enter`)*** --- *gcode generation may take ~20 seconds*\n",
        "\n",
        "# import python packages (if not already imported)\n",
        "import sys\n",
        "if 'fullcontrol' not in sys.modules:\n",
        "  !pip install --no-deps git+https://github.com/FullControlXYZ/fullcontrol --quiet\n",
        "  # --no-deps is included due to a pip 'dependency resolver' error in colab that began in Feb 2024\n",
        "  import fullcontrol as fc\n",
        "  import lab.fullcontrol as fclab\n",
        "  import lab.fullcontrol.fouraxis as fc4\n",
        "  from google.colab import files\n",
        "  from math import sin, cos, tau, atan, exp, pi, degrees\n",
        "\n",
        "# @markdown\n",
        "\n",
        "# @markdown Rotation of the b axis will cause the nozzle to move in the x and z directions, and the amount that it moves depends on how far the tip of the nozzle is away from the axis of rotation\n",
        "\n",
        "# @markdown Therefore it is important to set this distance here to allow fullcontrol to determine the correct x z values to send to the printer\n",
        "\n",
        "# @markdown Even though the nozzle is below the axis of rotation, this value should be positive\n",
        "\n",
        "Nozzle_tip_axis_offset = 46.0 # @param {type:\"number\"} # default 46.0 mm\n",
        "Nozzle_size = 0.8 #  @param {type:\"slider\", min:0.4, max:0.8, step:0.2}\n",
        "Output = 'Plot' # @param [\"Plot\", \"GCode\"]\n",
        "\n",
        "# @markdown  This design does not currently adjust extrusion rate to compensate for the layer height being smaller on the inside of bends but that strategy is implemented in other FullControl designs and will be implemented if there is a demand\n",
        "\n",
        "b_offset_z = Nozzle_tip_axis_offset\n",
        "design_name = 'FullControl_4axis_demo'\n",
        "\n",
        "EH = Nozzle_size / 2 if Output == 'GCode' else Nozzle_size*3\n",
        "EW = Nozzle_size * 1.25\n",
        "\n",
        "bez_points = [\n",
        "    fc.Point(x=0, y=0, z=0),\n",
        "    fc.Point(x=0, y=0, z=30),\n",
        "    fc.Point(x=-20, y=0, z=60),\n",
        "    fc.Point(x=80, y=0, z=90),\n",
        "    fc.Point(x=0, y=0, z=140),\n",
        "    fc.Point(x=-30, y=0, z=150),]\n",
        "\n",
        "layers = int(fc.path_length(fclab.bezier(bez_points, 100))/EH)  # use 100 points to calculate bezier path length\n",
        "centres = fclab.bezier(bez_points, layers)\n",
        "centres = fc.segmented_path(centres, layers) # make sure medial axis points are perfectly equidistant\n",
        "\n",
        "radii = fc.linspace(20, 12, layers)\n",
        "seg_z_angles = [fclab.angleZ(point1, point2) if point2.x>point1.x else -fclab.angleZ(point1, point2) for point1, point2 in zip(centres[:-1], centres[1:])]\n",
        "angles = seg_z_angles + [seg_z_angles[-1]] # last point has now segment after it, so use the angle of the previous segment\n",
        "\n",
        "centre_x, centre_y = 120, 100\n",
        "centres = fc.move(centres, fc.Vector(x=centre_x, y=centre_y))\n",
        "\n",
        "steps = []\n",
        "for layer in range(layers):\n",
        "    circle = fc.circleXY(centres[layer], radii[layer], tau/4, 6) # define path for each layer\n",
        "    circle = fclab.rotate(circle, centres[layer], 'y', angles[layer])  # rotate to be normal to the medial axis of the tube for each layer\n",
        "    circle = fc4.xyz_add_b(circle) # convert points from 3-axis (XYZ) to 4-axis (XYZB)\n",
        "    for i in range(len(circle)): circle[i].b = degrees(angles[layer]) # Add nozzle-angle data for each point\n",
        "    steps.extend(circle + [fc4.PlotAnnotation(point=centres[layer], label='')]) # add current layer to the design\n",
        "\n",
        "if Output == 'Plot':\n",
        "  steps.append(fc4.PlotAnnotation(point=centres[-1], label='Not all layers shown in this preview'))\n",
        "  fc4.transform(steps, 'plot', fc.PlotControls(style='line', zoom=0.6, color_type='print_sequence'))\n",
        "else:\n",
        "  gcode = fc4.transform(steps, 'gcode', fc4.GcodeControls(b_offset_z=b_offset_z, initialization_data={\n",
        "                      'print_speed': 200, 'extrusion_width': EW, 'extrusion_height': EH}))\n",
        "  open(f'{design_name}.gcode', 'w').write(gcode)\n",
        "  files.download(f'{design_name}.gcode')"
      ]
    }
  ],
  "metadata": {
    "colab": {
      "provenance": []
    },
    "kernelspec": {
      "display_name": "Python 3",
      "name": "python3"
    },
    "language_info": {
      "name": "python"
    }
  },
  "nbformat": 4,
  "nbformat_minor": 0
}
